{
  "cells": [
    {
      "cell_type": "code",
      "execution_count": null,
      "metadata": {
        "colab": {
          "base_uri": "https://localhost:8080/"
        },
        "id": "Yuib-1s1YRlt",
        "outputId": "687cb64c-995a-43b1-ed47-185cb32e2008"
      },
      "outputs": [],
      "source": [
        "!pip install researchpy"
      ]
    },
    {
      "cell_type": "code",
      "execution_count": null,
      "metadata": {
        "id": "Tz1qKEMxYTCT"
      },
      "outputs": [],
      "source": [
        "import researchpy as rp\n",
        "import pandas as pd"
      ]
    },
    {
      "cell_type": "code",
      "execution_count": null,
      "metadata": {
        "colab": {
          "base_uri": "https://localhost:8080/",
          "height": 424
        },
        "id": "NHJ4xg5DYXZx",
        "outputId": "03263426-2e84-4445-f952-8d10fbdff94e"
      },
      "outputs": [],
      "source": [
        "df = pd.read_csv('./data.csv')\n",
        "df"
      ]
    },
    {
      "cell_type": "code",
      "execution_count": null,
      "metadata": {
        "colab": {
          "base_uri": "https://localhost:8080/"
        },
        "id": "2HyFY1tKgwDk",
        "outputId": "f3c62ea7-52e8-463c-cf34-f1febaf833c0"
      },
      "outputs": [],
      "source": [
        "rp.codebook(df)"
      ]
    },
    {
      "cell_type": "code",
      "execution_count": null,
      "metadata": {
        "colab": {
          "base_uri": "https://localhost:8080/"
        },
        "id": "IBby_YNohrHl",
        "outputId": "da650c24-9910-47e5-c8f4-7b0c65bbb7e7"
      },
      "outputs": [],
      "source": [
        "df.columns"
      ]
    },
    {
      "cell_type": "code",
      "execution_count": null,
      "metadata": {
        "colab": {
          "base_uri": "https://localhost:8080/",
          "height": 179
        },
        "id": "fF8x6Hvdh5Tr",
        "outputId": "34642f22-9b01-46fc-8940-4e7f32d09334"
      },
      "outputs": [],
      "source": [
        "## example of getting descriptives for single or group of continuous variables\n",
        "\n",
        "rp.summary_cont(df[['Age', 'HR', 'sBP']])"
      ]
    },
    {
      "cell_type": "code",
      "execution_count": null,
      "metadata": {
        "colab": {
          "base_uri": "https://localhost:8080/",
          "height": 206
        },
        "id": "7dUKqxsOiXkQ",
        "outputId": "f4b7fa5e-473f-4407-b749-975623aae1e0"
      },
      "outputs": [],
      "source": [
        "rp.summary_cat(df[['Group', 'Smoke']])"
      ]
    },
    {
      "cell_type": "code",
      "execution_count": null,
      "metadata": {
        "colab": {
          "base_uri": "https://localhost:8080/"
        },
        "id": "g3kA2jJoijzO",
        "outputId": "f8556125-835f-43c4-b9e6-6f4878fc450d"
      },
      "outputs": [],
      "source": [
        "df['Group'].value_counts()"
      ]
    },
    {
      "cell_type": "code",
      "execution_count": null,
      "metadata": {
        "colab": {
          "base_uri": "https://localhost:8080/"
        },
        "id": "sYipIGGximTA",
        "outputId": "dc23d990-1a4d-45ac-b53c-79d743334215"
      },
      "outputs": [],
      "source": [
        "df['Smoke'].value_counts()"
      ]
    }
  ],
  "metadata": {
    "colab": {
      "collapsed_sections": [],
      "provenance": []
    },
    "kernelspec": {
      "display_name": "Python 3",
      "name": "python3"
    },
    "language_info": {
      "name": "python"
    }
  },
  "nbformat": 4,
  "nbformat_minor": 0
}
